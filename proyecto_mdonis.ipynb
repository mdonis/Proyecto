{
 "cells": [
  {
   "cell_type": "code",
   "execution_count": 1,
   "metadata": {},
   "outputs": [],
   "source": [
    "import numpy as np\n",
    "import pandas as pd\n",
    "\n",
    "ds = np.load('proyecto_training_data.npy')\n",
    "\n",
    "np.random.shuffle(ds)\n",
    "\n",
    "n = int(ds.shape[0]*0.8)\n",
    "\n",
    "train_data = ds[0:n,:]\n",
    "test_data = ds[n:,:]\n",
    "\n",
    "# Mismos sets de datos convertidos en dataframes\n",
    "df = pd.DataFrame(ds, columns = ['SalePrice','OverallQual','1stFlrSF','TotRmsAbvGrd','YearBuilt','LotFrontage'])\n",
    "train_df = pd.DataFrame(train_data, columns = ['SalePrice','OverallQual','1stFlrSF','TotRmsAbvGrd','YearBuilt','LotFrontage'])\n",
    "test_df = pd.DataFrame(test_data, columns = ['SalePrice','OverallQual','1stFlrSF','TotRmsAbvGrd','YearBuilt','LotFrontage'])\n",
    "\n",
    "# Análisis exploratorio numpy\n",
    "mean = train_data.mean(axis = 0)\n",
    "maxx = train_data.max(axis = 0)\n",
    "minn = train_data.min(axis = 0)\n",
    "\n",
    "# Análisis exploratorio pandas\n",
    "mean_pandas = df.mean(axis = 0)\n",
    "max_pandas = df.max(axis = 0)\n",
    "min_pandas = df.min(axis = 0)\n",
    "std_pandas = df.std(axis = 0)\n",
    "rng_pandas = max_pandas - min_pandas"
   ]
  },
  {
   "cell_type": "code",
   "execution_count": 2,
   "metadata": {},
   "outputs": [
    {
     "data": {
      "text/plain": [
       "SalePrice       180921.195890\n",
       "OverallQual          6.099315\n",
       "1stFlrSF          1162.626712\n",
       "TotRmsAbvGrd         6.517808\n",
       "YearBuilt         1971.267808\n",
       "LotFrontage         70.049958\n",
       "dtype: float64"
      ]
     },
     "execution_count": 2,
     "metadata": {},
     "output_type": "execute_result"
    }
   ],
   "source": [
    "mean_pandas"
   ]
  },
  {
   "cell_type": "code",
   "execution_count": null,
   "metadata": {},
   "outputs": [],
   "source": []
  }
 ],
 "metadata": {
  "kernelspec": {
   "display_name": "Python 3",
   "language": "python",
   "name": "python3"
  },
  "language_info": {
   "codemirror_mode": {
    "name": "ipython",
    "version": 3
   },
   "file_extension": ".py",
   "mimetype": "text/x-python",
   "name": "python",
   "nbconvert_exporter": "python",
   "pygments_lexer": "ipython3",
   "version": "3.8.5"
  }
 },
 "nbformat": 4,
 "nbformat_minor": 4
}
